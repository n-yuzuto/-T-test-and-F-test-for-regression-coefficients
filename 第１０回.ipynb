{
 "cells": [
  {
   "cell_type": "code",
   "execution_count": 9,
   "metadata": {},
   "outputs": [
    {
     "name": "stdout",
     "output_type": "stream",
     "text": [
      "自由度調整済み決定係数: 0.8557064814375436\n"
     ]
    }
   ],
   "source": [
    "#第10回\n",
    "#課題１.1\n",
    "import numpy as np\n",
    "from sklearn import datasets\n",
    "from sklearn.linear_model import LinearRegression\n",
    "import matplotlib.pyplot as plt\n",
    "X, label = datasets.load_iris(return_X_y=True)\n",
    "x = X[:,1:4]\n",
    "y = X[:,0:1]\n",
    "clf = LinearRegression()\n",
    "clf.fit(x,y)\n",
    "ypred = clf.predict(x)\n",
    "ymean = np.mean(y)\n",
    "n = x.shape[0]\n",
    "d = x.shape[1]\n",
    "nu_e = n-d-1\n",
    "S_Residual = np.sum((y-ypred)**2)\n",
    "S_Total = np.sum((y-ymean)**2)\n",
    "R_Squared = 1-S_Residual / S_Total\n",
    "R_Adjusted = 1 - ((S_Residual/nu_e) / (S_Total / (n-1)))\n",
    "print(\"自由度調整済み決定係数:\", R_Adjusted)"
   ]
  },
  {
   "cell_type": "code",
   "execution_count": 10,
   "metadata": {},
   "outputs": [
    {
     "name": "stdout",
     "output_type": "stream",
     "text": [
      "[32.335260270316596, 14.542229653563775, -4.675166946299753]\n"
     ]
    }
   ],
   "source": [
    "#課題1.2\n",
    "y = X[:,0:1]\n",
    "theta_hat = clf.coef_[0]\n",
    "T = [0,0,0]\n",
    "X_inv = np.linalg.inv(np.dot(x.T,x))\n",
    "for i in range(len(T)):\n",
    "    T[i] = theta_hat[i] / (np.sqrt((S_Residual/nu_e) * X_inv[i][i]))\n",
    "print(T)\n"
   ]
  },
  {
   "cell_type": "code",
   "execution_count": 11,
   "metadata": {},
   "outputs": [
    {
     "name": "stdout",
     "output_type": "stream",
     "text": [
      "[0.0, 0.0, 6.62287411323792e-06]\n"
     ]
    }
   ],
   "source": [
    "#課題1.3\n",
    "from scipy.stats import t\n",
    "p = [0,0,0]\n",
    "for i in range(3):\n",
    "    p[i] = t.cdf(-abs(T[i]),nu_e) + 1 - t.cdf(abs(T[i]),nu_e)\n",
    "print(p)"
   ]
  },
  {
   "cell_type": "code",
   "execution_count": 25,
   "metadata": {},
   "outputs": [
    {
     "name": "stdout",
     "output_type": "stream",
     "text": [
      "自由度調整済み決定係数: -0.020547945205479312\n"
     ]
    }
   ],
   "source": [
    "#課題2.1\n",
    "import numpy as np\n",
    "from sklearn import datasets\n",
    "from sklearn.linear_model import LinearRegression\n",
    "import matplotlib.pyplot as plt\n",
    "X, label = datasets.load_iris(return_X_y=True)\n",
    "x = np.zeros((150,3))\n",
    "y = X[:,0:1]\n",
    "clf = LinearRegression()\n",
    "clf.fit(x,y)\n",
    "ypred = clf.predict(x)\n",
    "ymean = np.mean(y)\n",
    "n = x.shape[0]\n",
    "d = x.shape[1]\n",
    "nu_e = n-d-1\n",
    "S_Residual_1 = np.sum((y-ypred)**2)\n",
    "S_Total = np.sum((y-ymean)**2)\n",
    "R_Squared = 1-S_Residual_1 / S_Total\n",
    "R_Adjusted = 1 - ((S_Residual_1/nu_e) / (S_Total / (n-1)))\n",
    "print(\"自由度調整済み決定係数:\", R_Adjusted)"
   ]
  },
  {
   "cell_type": "code",
   "execution_count": 26,
   "metadata": {},
   "outputs": [
    {
     "name": "stdout",
     "output_type": "stream",
     "text": [
      "295.53913801172433\n"
     ]
    }
   ],
   "source": [
    "#課題2.2\n",
    "s0 = S_Residual_1\n",
    "s1 = S_Residual\n",
    "F = (s0-s1)*nu_e / (d * s1)\n",
    "print(F)"
   ]
  },
  {
   "cell_type": "code",
   "execution_count": 27,
   "metadata": {},
   "outputs": [
    {
     "name": "stdout",
     "output_type": "stream",
     "text": [
      "1.1102230246251565e-16\n"
     ]
    }
   ],
   "source": [
    "#課題2.3\n",
    "from scipy.stats import f\n",
    "p = 1 - f.cdf(F,d,nu_e)\n",
    "print(p)"
   ]
  },
  {
   "cell_type": "code",
   "execution_count": null,
   "metadata": {},
   "outputs": [],
   "source": []
  }
 ],
 "metadata": {
  "kernelspec": {
   "display_name": "Python 3",
   "language": "python",
   "name": "python3"
  },
  "language_info": {
   "codemirror_mode": {
    "name": "ipython",
    "version": 3
   },
   "file_extension": ".py",
   "mimetype": "text/x-python",
   "name": "python",
   "nbconvert_exporter": "python",
   "pygments_lexer": "ipython3",
   "version": "3.7.3"
  }
 },
 "nbformat": 4,
 "nbformat_minor": 2
}
